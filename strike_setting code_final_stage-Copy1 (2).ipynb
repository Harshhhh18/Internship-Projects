{
 "cells": [
  {
   "cell_type": "code",
   "execution_count": 1,
   "id": "8896ab09",
   "metadata": {},
   "outputs": [],
   "source": [
    "import pandas as pd\n",
    "import itertools\n",
    "\n",
    "# Define variables\n",
    "mn = 75\n",
    "adj_mn = mn * 0.8\n",
    "mx = 862\n",
    "adj_mx = mx * 1.35\n",
    "mx1 = mx * .5\n",
    "strike_num = 4\n",
    "diff = mx - mn\n",
    "a = diff / strike_num\n",
    "b = a*0.7\n",
    "c = b*0.7\n",
    "\n",
    "# Create X1 DataFrame\n",
    "X1 = pd.DataFrame({'X1': range(int(mn), int(adj_mx), 5)})\n",
    "\n",
    "\n"
   ]
  },
  {
   "cell_type": "code",
   "execution_count": 2,
   "id": "d14c8910",
   "metadata": {},
   "outputs": [
    {
     "data": {
      "text/plain": [
       "60.0"
      ]
     },
     "execution_count": 2,
     "metadata": {},
     "output_type": "execute_result"
    }
   ],
   "source": [
    "adj_mn"
   ]
  },
  {
   "cell_type": "code",
   "execution_count": 3,
   "id": "e2a6485d",
   "metadata": {},
   "outputs": [
    {
     "data": {
      "text/plain": [
       "431.0"
      ]
     },
     "execution_count": 3,
     "metadata": {},
     "output_type": "execute_result"
    }
   ],
   "source": [
    "mx1"
   ]
  },
  {
   "cell_type": "code",
   "execution_count": 4,
   "id": "1786d7eb",
   "metadata": {},
   "outputs": [
    {
     "data": {
      "text/html": [
       "<div>\n",
       "<style scoped>\n",
       "    .dataframe tbody tr th:only-of-type {\n",
       "        vertical-align: middle;\n",
       "    }\n",
       "\n",
       "    .dataframe tbody tr th {\n",
       "        vertical-align: top;\n",
       "    }\n",
       "\n",
       "    .dataframe thead th {\n",
       "        text-align: right;\n",
       "    }\n",
       "</style>\n",
       "<table border=\"1\" class=\"dataframe\">\n",
       "  <thead>\n",
       "    <tr style=\"text-align: right;\">\n",
       "      <th></th>\n",
       "      <th>X1</th>\n",
       "    </tr>\n",
       "  </thead>\n",
       "  <tbody>\n",
       "    <tr>\n",
       "      <th>0</th>\n",
       "      <td>75</td>\n",
       "    </tr>\n",
       "    <tr>\n",
       "      <th>1</th>\n",
       "      <td>80</td>\n",
       "    </tr>\n",
       "    <tr>\n",
       "      <th>2</th>\n",
       "      <td>85</td>\n",
       "    </tr>\n",
       "    <tr>\n",
       "      <th>3</th>\n",
       "      <td>90</td>\n",
       "    </tr>\n",
       "    <tr>\n",
       "      <th>4</th>\n",
       "      <td>95</td>\n",
       "    </tr>\n",
       "    <tr>\n",
       "      <th>...</th>\n",
       "      <td>...</td>\n",
       "    </tr>\n",
       "    <tr>\n",
       "      <th>213</th>\n",
       "      <td>1140</td>\n",
       "    </tr>\n",
       "    <tr>\n",
       "      <th>214</th>\n",
       "      <td>1145</td>\n",
       "    </tr>\n",
       "    <tr>\n",
       "      <th>215</th>\n",
       "      <td>1150</td>\n",
       "    </tr>\n",
       "    <tr>\n",
       "      <th>216</th>\n",
       "      <td>1155</td>\n",
       "    </tr>\n",
       "    <tr>\n",
       "      <th>217</th>\n",
       "      <td>1160</td>\n",
       "    </tr>\n",
       "  </tbody>\n",
       "</table>\n",
       "<p>218 rows × 1 columns</p>\n",
       "</div>"
      ],
      "text/plain": [
       "       X1\n",
       "0      75\n",
       "1      80\n",
       "2      85\n",
       "3      90\n",
       "4      95\n",
       "..    ...\n",
       "213  1140\n",
       "214  1145\n",
       "215  1150\n",
       "216  1155\n",
       "217  1160\n",
       "\n",
       "[218 rows x 1 columns]"
      ]
     },
     "execution_count": 4,
     "metadata": {},
     "output_type": "execute_result"
    }
   ],
   "source": [
    "X1"
   ]
  },
  {
   "cell_type": "code",
   "execution_count": null,
   "id": "bd0f09d9",
   "metadata": {},
   "outputs": [],
   "source": [
    "def generate_strike_combinations(X1):\n",
    "    for x1, x2, x3, x4 in itertools.product(X1['X1'], repeat=strike_num):\n",
    "        if (x1 < x2 < x3 < x4) and (x1 < mx1) and (x4 > mx1) and  ((x3 - x2) >= (x2 - x1)*0.99) and ((x4 - x3) >= (x3 - x2)*0.99) and ((x2 - x1) >= (x3 - x2) >= (x4 - x3)):\n",
    "            yield {'X1': x1, 'X2': x2, 'X3': x3, 'X4': x4}\n",
    "\n",
    "# Create strike DataFrame using generator\n",
    "strike = pd.DataFrame(generate_strike_combinations(X1))"
   ]
  },
  {
   "cell_type": "code",
   "execution_count": null,
   "id": "a2776cd4",
   "metadata": {},
   "outputs": [],
   "source": [
    "strike"
   ]
  },
  {
   "cell_type": "code",
   "execution_count": null,
   "id": "2cc6d8f7",
   "metadata": {},
   "outputs": [],
   "source": [
    "df=pd.read_excel('Sample_index_data.xlsx',sheet_name='final')"
   ]
  },
  {
   "cell_type": "code",
   "execution_count": null,
   "id": "f506aed4",
   "metadata": {},
   "outputs": [],
   "source": [
    "df.columns"
   ]
  },
  {
   "cell_type": "code",
   "execution_count": null,
   "id": "fdcb3cbc",
   "metadata": {},
   "outputs": [],
   "source": [
    "df=df.sort_values(['District', 'ID', 'Year'])"
   ]
  },
  {
   "cell_type": "code",
   "execution_count": null,
   "id": "a31f9100",
   "metadata": {},
   "outputs": [],
   "source": [
    "df['District'].unique()"
   ]
  },
  {
   "cell_type": "code",
   "execution_count": null,
   "id": "50683f07",
   "metadata": {},
   "outputs": [],
   "source": [
    "wt=pd.read_excel('Sample_index_data.xlsx',sheet_name='wt')"
   ]
  },
  {
   "cell_type": "code",
   "execution_count": null,
   "id": "98431b11",
   "metadata": {},
   "outputs": [],
   "source": [
    "wt['Geotag Area'].sum()"
   ]
  },
  {
   "cell_type": "code",
   "execution_count": null,
   "id": "2fadd81f",
   "metadata": {},
   "outputs": [],
   "source": [
    "wt"
   ]
  },
  {
   "cell_type": "code",
   "execution_count": null,
   "id": "72312bf6",
   "metadata": {},
   "outputs": [],
   "source": [
    "wt['wt']=wt['Geotag Area']/4890"
   ]
  },
  {
   "cell_type": "code",
   "execution_count": null,
   "id": "e6457cf2",
   "metadata": {},
   "outputs": [],
   "source": [
    "wt=wt[['District', 'ID','wt']]"
   ]
  },
  {
   "cell_type": "code",
   "execution_count": null,
   "id": "bb6fe104",
   "metadata": {},
   "outputs": [],
   "source": [
    "df.columns"
   ]
  },
  {
   "cell_type": "code",
   "execution_count": null,
   "id": "8767367c",
   "metadata": {},
   "outputs": [],
   "source": [
    "wt.columns"
   ]
  },
  {
   "cell_type": "code",
   "execution_count": null,
   "id": "3dbeb892",
   "metadata": {},
   "outputs": [],
   "source": [
    "strike['District']='HIMACHAL PRADESH_Kangra'"
   ]
  },
  {
   "cell_type": "code",
   "execution_count": null,
   "id": "0aa4710d",
   "metadata": {},
   "outputs": [],
   "source": [
    "df.columns"
   ]
  },
  {
   "cell_type": "code",
   "execution_count": null,
   "id": "d5f09542",
   "metadata": {},
   "outputs": [],
   "source": [
    "import numpy as np\n",
    "final_data = []\n",
    "\n",
    "# Iterate over each row in the second dataframe\n",
    "for index, row in strike.iterrows():\n",
    "    # Extract 'ID', 'X1', 'X2', 'X3', values for each row\n",
    "    District = row['District']\n",
    "    x1 = row['X1']\n",
    "    x2 = row['X2']\n",
    "    x3 = row['X3']\n",
    "    x4 = row['X4']\n",
    "    \n",
    "    # Filter the rows from the first dataframe based on the 'District'\n",
    "    filtered_rows = df[df['District'] == District].copy()  # Copy the filtered rows\n",
    "    \n",
    "    # Apply the logic to calculate 'Burn cost' for the current row\n",
    "    filtered_rows['Brn'] = np.where(filtered_rows['Index'] < x1, 0, np.nan)\n",
    "    filtered_rows['Brn'] = np.where((filtered_rows['Index'] >= x1) & (filtered_rows['Index'] < x2), 10, filtered_rows['Brn'])\n",
    "    filtered_rows['Brn'] = np.where((filtered_rows['Index'] >= x2) & (filtered_rows['Index'] < x3), 25, filtered_rows['Brn'])\n",
    "    filtered_rows['Brn'] = np.where((filtered_rows['Index'] >= x3) & (filtered_rows['Index'] < x4), 60, filtered_rows['Brn'])\n",
    "    filtered_rows['Brn'] = np.where(filtered_rows['Index'] >= x4, 100, filtered_rows['Brn'])\n",
    "    \n",
    "    values_to_count = [10, 25, 60, 100]\n",
    "    results = pd.DataFrame()\n",
    "    for value in values_to_count:\n",
    "        value_counts = filtered_rows[filtered_rows['Brn'] == value].groupby(['District']).size().reset_index(name=f'Count_{value}')\n",
    "        if results.empty:\n",
    "            results = value_counts\n",
    "        else:\n",
    "            results = results.merge(value_counts, on=['District'], how='outer')\n",
    "            \n",
    "    results = results.fillna(0)\n",
    "    \n",
    "    # Ensure all Count columns exist\n",
    "    for col in ['Count_10', 'Count_25', 'Count_60', 'Count_100']:\n",
    "        if col not in results.columns:\n",
    "            results[col] = 0\n",
    "    \n",
    "    results['tot'] = results['Count_10'] + results['Count_25'] + results['Count_60'] + results['Count_100']\n",
    "    id_cnt = filtered_rows.groupby('District')['ID'].nunique().reset_index()\n",
    "    id_cnt.columns = ['District', 'grd_cnt']\n",
    "    results = pd.merge(results, id_cnt)\n",
    "    results['freq'] = results['tot'] / results['grd_cnt']\n",
    "    \n",
    "    # Calculate the mean of 'Brn' for different time periods (last 10, 20, 30 rows)\n",
    "    avg10 = filtered_rows.groupby(['District', 'ID']).tail(10).groupby(['District', 'ID'])['Brn'].mean().reset_index()\n",
    "    avg20 = filtered_rows.groupby(['District', 'ID']).tail(20).groupby(['District', 'ID'])['Brn'].mean().reset_index()\n",
    "    avg30 = filtered_rows.groupby(['District', 'ID']).tail(30).groupby(['District', 'ID'])['Brn'].mean().reset_index()\n",
    "                                    \n",
    "    z = pd.concat([avg10, avg20, avg30])\n",
    "    z = z.sort_values(['District', 'ID'])\n",
    "    z1 = z.groupby(['District', 'ID']).mean().reset_index()\n",
    "    z2 = pd.merge(z1, wt)\n",
    "    z2['weigh_avg'] = z2['Brn'] * z2['wt']\n",
    "    wAvg = z2.groupby(['District'])['weigh_avg'].sum()\n",
    "    wAvg = wAvg.iloc[0]\n",
    "    \n",
    "    # Append 'District', 'X1', 'X2', 'X3', 'X4', 'wAvg', and results columns to the final_data list for each row\n",
    "    final_data.append([\n",
    "        District, \n",
    "        x1, \n",
    "        x2, \n",
    "        x3, \n",
    "        x4, \n",
    "        wAvg, \n",
    "        results.iloc[0]['Count_10'], \n",
    "        results.iloc[0]['Count_25'], \n",
    "        results.iloc[0]['Count_60'], \n",
    "        results.iloc[0]['Count_100'], \n",
    "        results.iloc[0]['tot'], \n",
    "        results.iloc[0]['grd_cnt'], \n",
    "        results.iloc[0]['freq']\n",
    "    ])\n",
    "\n",
    "# Create a DataFrame from the final_data list with appropriate column names\n",
    "final_df = pd.DataFrame(final_data, columns=[\n",
    "    'District', 'X1', 'X2', 'X3', 'X4', 'Brn', 'Count_10', 'Count_25', 'Count_60', 'Count_100', 'tot', 'grd_cnt', 'freq'\n",
    "])\n",
    "\n",
    "# Display or return the resulting DataFrame with 'District', 'X1', 'X2', 'X3', 'X4', 'Brn', and results values for each row\n",
    "print(final_df)"
   ]
  },
  {
   "cell_type": "code",
   "execution_count": null,
   "id": "ef7474f3",
   "metadata": {},
   "outputs": [],
   "source": [
    "final_df"
   ]
  },
  {
   "cell_type": "code",
   "execution_count": null,
   "id": "c81d081d",
   "metadata": {},
   "outputs": [],
   "source": [
    "b=final_df[final_df['Brn'].between(2.75,3.5)]"
   ]
  },
  {
   "cell_type": "code",
   "execution_count": null,
   "id": "770d8b04",
   "metadata": {},
   "outputs": [],
   "source": [
    "b=b[b['freq'].between(5.5,7)]"
   ]
  },
  {
   "cell_type": "code",
   "execution_count": null,
   "id": "6321d982",
   "metadata": {},
   "outputs": [],
   "source": [
    "b"
   ]
  },
  {
   "cell_type": "code",
   "execution_count": null,
   "id": "f28d1cc4",
   "metadata": {},
   "outputs": [],
   "source": []
  },
  {
   "cell_type": "code",
   "execution_count": null,
   "id": "944c5651",
   "metadata": {},
   "outputs": [],
   "source": []
  },
  {
   "cell_type": "code",
   "execution_count": null,
   "id": "5c7b8b58",
   "metadata": {},
   "outputs": [],
   "source": [
    "a=final_df[final_df['Brn'].between(2.75,3.5)]\n",
    "a=a[a['freq'].between(5.5,7.5)]"
   ]
  },
  {
   "cell_type": "code",
   "execution_count": null,
   "id": "25cbd7c8",
   "metadata": {},
   "outputs": [],
   "source": [
    "#a=a[a['Count_60']==1]"
   ]
  },
  {
   "cell_type": "code",
   "execution_count": null,
   "id": "58f08868",
   "metadata": {},
   "outputs": [],
   "source": [
    "a"
   ]
  },
  {
   "cell_type": "code",
   "execution_count": null,
   "id": "c7c44fa1",
   "metadata": {},
   "outputs": [],
   "source": [
    "a=a[a['freq'].between(5.5,7)]"
   ]
  },
  {
   "cell_type": "code",
   "execution_count": null,
   "id": "fd5dab67",
   "metadata": {},
   "outputs": [],
   "source": [
    "a"
   ]
  },
  {
   "cell_type": "code",
   "execution_count": null,
   "id": "179bb7ea",
   "metadata": {},
   "outputs": [],
   "source": [
    "a.to_excel('sample_op.xlsx')"
   ]
  },
  {
   "cell_type": "code",
   "execution_count": null,
   "id": "2fac64fa",
   "metadata": {},
   "outputs": [],
   "source": []
  },
  {
   "cell_type": "code",
   "execution_count": null,
   "id": "39d161e1",
   "metadata": {},
   "outputs": [],
   "source": []
  },
  {
   "cell_type": "code",
   "execution_count": null,
   "id": "1c743dbb",
   "metadata": {},
   "outputs": [],
   "source": []
  },
  {
   "cell_type": "code",
   "execution_count": null,
   "id": "0a1a2a07",
   "metadata": {},
   "outputs": [],
   "source": []
  },
  {
   "cell_type": "code",
   "execution_count": null,
   "id": "d9c4ed40",
   "metadata": {},
   "outputs": [],
   "source": [
    "import pandas as pd\n",
    "import numpy as np\n",
    "\n",
    "# Assuming 'df' is the first dataframe and 'strike' is the second dataframe\n",
    "\n",
    "# Create an empty list to store the results\n",
    "final_data = []\n",
    "\n",
    "# Iterate over each row in the second dataframe\n",
    "for index, row in strike.iterrows():\n",
    "    # Extract 'ID', 'X1', 'X2', 'X3', values for each row\n",
    "    District = row['District']\n",
    "    x1 = row['X1']\n",
    "    x2 = row['X2']\n",
    "    x3 = row['X3']\n",
    "    x4 = row['X4']\n",
    "    \n",
    "    # Filter the rows from the first dataframe based on the 'ID'\n",
    "    filtered_rows = df[df['District'] == District].copy()  # Copy the filtered rows\n",
    "    \n",
    "    # Apply the logic to calculate 'Brn' for the current row\n",
    "    filtered_rows['Brn'] = np.where(filtered_rows['Index'] < x1, 0, np.nan)\n",
    "    filtered_rows['Brn'] = np.where((filtered_rows['Index'] >= x1) & (filtered_rows['Index'] < x2), 10, filtered_rows['Brn'])\n",
    "    filtered_rows['Brn'] = np.where((filtered_rows['Index'] >= x2) & (filtered_rows['Index'] < x3), 25, filtered_rows['Brn'])\n",
    "    filtered_rows['Brn'] = np.where((filtered_rows['Index'] >= x3) & (filtered_rows['Index'] < x4), 60, filtered_rows['Brn'])\n",
    "    filtered_rows['Brn'] = np.where(filtered_rows['Index'] >= x4, 100, filtered_rows['Brn'])\n",
    "    \n",
    "    values_to_count = [10, 25, 60, 100]\n",
    "    results = pd.DataFrame()\n",
    "    for value in values_to_count:\n",
    "        value_counts = filtered_rows[filtered_rows['Brn'] == value].groupby(['District']).size().reset_index(name=f'Count_{value}')\n",
    "        if results.empty:\n",
    "            results = value_counts\n",
    "        else:\n",
    "            results = results.merge(value_counts, on=['District'], how='outer')\n",
    "            \n",
    "    results = results.fillna(0)\n",
    "    results['tot'] = results['Count_10'] + results['Count_25'] + results['Count_60'] + results['Count_100']\n",
    "    id_cnt = filtered_rows.groupby('District')['ID'].nunique().reset_index()\n",
    "    id_cnt.columns = ['District', 'grd_cnt']\n",
    "    results = pd.merge(results, id_cnt)\n",
    "    results['freq'] = results['tot'] / results['grd_cnt']\n",
    "    \n",
    "    # Calculate the mean of 'Brn' for different time periods (last 10, 20, 30 rows)\n",
    "    avg10 = filtered_rows.groupby(['District', 'ID']).tail(10).groupby(['District', 'ID'])['Brn'].mean().reset_index()\n",
    "    avg20 = filtered_rows.groupby(['District', 'ID']).tail(20).groupby(['District', 'ID'])['Brn'].mean().reset_index()\n",
    "    avg30 = filtered_rows.groupby(['District', 'ID']).tail(30).groupby(['District', 'ID'])['Brn'].mean().reset_index()\n",
    "                                    \n",
    "    z = pd.concat([avg10, avg20, avg30])\n",
    "    z = z.sort_values(['District', 'ID'])\n",
    "    z1 = z.groupby(['District', 'ID']).mean().reset_index()\n",
    "    z2 = pd.merge(z1, wt)\n",
    "    z2['weigh_avg'] = z2['Brn'] * z2['wt']\n",
    "    wAvg = z2.groupby(['District'])['weigh_avg'].sum()\n",
    "    wAvg = wAvg.iloc[0]\n",
    "    \n",
    "    # Append 'District', 'X1', 'X2', 'X3', 'X4', 'wAvg', and results columns to the final_data list for each row\n",
    "    final_data.append([\n",
    "        District, \n",
    "        x1, \n",
    "        x2, \n",
    "        x3, \n",
    "        x4, \n",
    "        wAvg, \n",
    "        results.iloc[0]['Count_10'], \n",
    "        results.iloc[0]['Count_25'], \n",
    "        results.iloc[0]['Count_60'], \n",
    "        results.iloc[0]['Count_100'], \n",
    "        results.iloc[0]['tot'], \n",
    "        results.iloc[0]['grd_cnt'], \n",
    "        results.iloc[0]['freq']\n",
    "    ])\n",
    "\n",
    "# Create a DataFrame from the final_data list with appropriate column names\n",
    "final_df = pd.DataFrame(final_data, columns=[\n",
    "    'District', 'X1', 'X2', 'X3', 'X4', 'Brn', 'Count_10', 'Count_25', 'Count_60', 'Count_100', 'tot', 'grd_cnt', 'freq'\n",
    "])\n",
    "\n",
    "# Display or return the resulting DataFrame with 'District', 'X1', 'X2', 'X3', 'X4', 'Brn', and results values for each row\n",
    "print(final_df)\n"
   ]
  },
  {
   "cell_type": "code",
   "execution_count": null,
   "id": "d71a8078",
   "metadata": {},
   "outputs": [],
   "source": [
    "final_df.head(5)"
   ]
  },
  {
   "cell_type": "code",
   "execution_count": null,
   "id": "0f6198d0",
   "metadata": {},
   "outputs": [],
   "source": [
    "a=final_df[final_df['Brn'].between(2.75,3.25)]"
   ]
  },
  {
   "cell_type": "code",
   "execution_count": null,
   "id": "153de92c",
   "metadata": {},
   "outputs": [],
   "source": [
    "a.to_excel('Himachal_op.xlsx')"
   ]
  },
  {
   "cell_type": "code",
   "execution_count": null,
   "id": "2e5ddd82",
   "metadata": {},
   "outputs": [],
   "source": [
    "a.shape"
   ]
  },
  {
   "cell_type": "code",
   "execution_count": null,
   "id": "c5f6b0a7",
   "metadata": {},
   "outputs": [],
   "source": [
    "filtered_rows=df"
   ]
  },
  {
   "cell_type": "code",
   "execution_count": null,
   "id": "73ca3f8e",
   "metadata": {},
   "outputs": [],
   "source": [
    "    filtered_rows['Brn'] = np.where(filtered_rows['Index'] < 110, 0, np.nan)\n",
    "    filtered_rows['Brn'] = np.where((filtered_rows['Index'] >= 110) & (filtered_rows['Index'] < 210), 10, filtered_rows['Brn'])\n",
    "    filtered_rows['Brn'] = np.where((filtered_rows['Index'] >= 210) & (filtered_rows['Index'] < 310), 25, filtered_rows['Brn'])\n",
    "    filtered_rows['Brn'] = np.where((filtered_rows['Index'] >= 310) & (filtered_rows['Index'] < 410), 60, filtered_rows['Brn'])\n",
    "    filtered_rows['Brn'] = np.where(filtered_rows['Index'] >= 410, 100, filtered_rows['Brn'])"
   ]
  },
  {
   "cell_type": "code",
   "execution_count": null,
   "id": "a4af391f",
   "metadata": {},
   "outputs": [],
   "source": [
    "filtered_rows.sort_values(['Index'])"
   ]
  },
  {
   "cell_type": "code",
   "execution_count": null,
   "id": "4a2209be",
   "metadata": {},
   "outputs": [],
   "source": [
    "    values_to_count = [10, 25, 60, 100]\n",
    "    results = pd.DataFrame()\n",
    "    for value in values_to_count:\n",
    "        value_counts = filtered_rows[filtered_rows['Brn'] == value].groupby(['District']).size().reset_index(name=f'Count_{value}')\n",
    "        if results.empty:\n",
    "            results = value_counts\n",
    "        else:\n",
    "            results = results.merge(value_counts, on=['District'], how='outer')\n",
    "            \n",
    "    results = results.fillna(0)\n",
    "    results['tot'] = results['Count_10'] + results['Count_25'] + results['Count_60'] + results['Count_100']\n",
    "    id_cnt = filtered_rows.groupby('District')['ID'].nunique().reset_index()\n",
    "    id_cnt.columns = ['District', 'grd_cnt']\n",
    "    results = pd.merge(results, id_cnt)\n",
    "    results['freq'] = results['tot'] / results['grd_cnt']"
   ]
  },
  {
   "cell_type": "code",
   "execution_count": null,
   "id": "c52a5d0e",
   "metadata": {},
   "outputs": [],
   "source": [
    "results"
   ]
  },
  {
   "cell_type": "code",
   "execution_count": null,
   "id": "1e543734",
   "metadata": {},
   "outputs": [],
   "source": [
    "    avg10 = filtered_rows.groupby(['District', 'ID']).tail(10).groupby(['District', 'ID'])['Brn'].mean().reset_index()\n",
    "    avg20 = filtered_rows.groupby(['District', 'ID']).tail(20).groupby(['District', 'ID'])['Brn'].mean().reset_index()\n",
    "    avg30 = filtered_rows.groupby(['District', 'ID']).tail(30).groupby(['District', 'ID'])['Brn'].mean().reset_index()\n",
    "                                    \n",
    "    z = pd.concat([avg10, avg20, avg30])\n",
    "    z = z.sort_values(['District', 'ID'])\n",
    "    z1 = z.groupby(['District', 'ID']).mean().reset_index()\n",
    "    z2 = pd.merge(z1, wt)\n",
    "    z2['weigh_avg'] = z2['Brn'] * z2['wt']\n",
    "    wAvg = z2.groupby(['District'])['weigh_avg'].sum()\n",
    "    wAvg = wAvg.iloc[0]"
   ]
  },
  {
   "cell_type": "code",
   "execution_count": null,
   "id": "a2a93e17",
   "metadata": {},
   "outputs": [],
   "source": [
    "    final_data.append([\n",
    "        District, \n",
    "        x1, \n",
    "        x2, \n",
    "        x3, \n",
    "        x4, \n",
    "        wAvg, \n",
    "        results.iloc[0]['Count_10'], \n",
    "        results.iloc[0]['Count_25'], \n",
    "        results.iloc[0]['Count_60'], \n",
    "        results.iloc[0]['Count_100'], \n",
    "        results.iloc[0]['tot'], \n",
    "        results.iloc[0]['grd_cnt'], \n",
    "        results.iloc[0]['freq']\n",
    "    ])"
   ]
  },
  {
   "cell_type": "code",
   "execution_count": null,
   "id": "f8cec4a3",
   "metadata": {},
   "outputs": [],
   "source": [
    "results.iloc[0]['Count_10']"
   ]
  },
  {
   "cell_type": "code",
   "execution_count": null,
   "id": "b877ebc9",
   "metadata": {},
   "outputs": [],
   "source": [
    "filtered_rows=df"
   ]
  },
  {
   "cell_type": "code",
   "execution_count": null,
   "id": "e267fb4f",
   "metadata": {},
   "outputs": [],
   "source": [
    "    filtered_rows['Brn'] = np.where(filtered_rows['Index'] < x1, 0, np.nan)\n",
    "    filtered_rows['Brn'] = np.where((filtered_rows['Index'] >= x1) & (filtered_rows['Index'] < x2), 10, filtered_rows['Brn'])\n",
    "    filtered_rows['Brn'] = np.where((filtered_rows['Index'] >= x2) & (filtered_rows['Index'] < x3), 25, filtered_rows['Brn'])\n",
    "    filtered_rows['Brn'] = np.where((filtered_rows['Index'] >= x3) & (filtered_rows['Index'] < x4), 60, filtered_rows['Brn'])\n",
    "    filtered_rows['Brn'] = np.where(filtered_rows['Index'] >= x4, 100, filtered_rows['Brn'])\n",
    "    \n",
    "    values_to_count = [10, 25, 60, 100]\n",
    "    results = pd.DataFrame()\n",
    "    for value in values_to_count:\n",
    "        value_counts = filtered_rows[filtered_rows['Brn'] == value].groupby(['District']).size().reset_index(name=f'Count_{value}')\n",
    "        if results.empty:\n",
    "            results = value_counts\n",
    "        else:\n",
    "            results = results.merge(value_counts, on=['District'], how='outer')\n",
    "            \n",
    "    results = results.fillna(0)\n",
    "    \n",
    "    # Ensure all Count columns exist\n",
    "    for col in ['Count_10', 'Count_25', 'Count_60', 'Count_100']:\n",
    "        if col not in results.columns:\n",
    "            results[col] = 0\n",
    "    \n",
    "    results['tot'] = results['Count_10'] + results['Count_25'] + results['Count_60'] + results['Count_100']\n",
    "    id_cnt = filtered_rows.groupby('District')['ID'].nunique().reset_index()\n",
    "    id_cnt.columns = ['District', 'grd_cnt']\n",
    "    results = pd.merge(results, id_cnt)\n",
    "    results['freq'] = results['tot'] / results['grd_cnt']\n",
    "    \n",
    "    # Calculate the mean of 'Brn' for different time periods (last 10, 20, 30 rows)\n",
    "    avg10 = filtered_rows.groupby(['District', 'ID']).tail(10).groupby(['District', 'ID'])['Brn'].mean().reset_index()\n",
    "    avg20 = filtered_rows.groupby(['District', 'ID']).tail(20).groupby(['District', 'ID'])['Brn'].mean().reset_index()\n",
    "    avg30 = filtered_rows.groupby(['District', 'ID']).tail(30).groupby(['District', 'ID'])['Brn'].mean().reset_index()\n",
    "                                    \n",
    "    z = pd.concat([avg10, avg20, avg30])\n",
    "    z = z.sort_values(['District', 'ID'])\n",
    "    z1 = z.groupby(['District', 'ID']).mean().reset_index()\n",
    "    z2 = pd.merge(z1, wt)\n",
    "    z2['weigh_avg'] = z2['Brn'] * z2['wt']\n",
    "    wAvg = z2.groupby(['District'])['weigh_avg'].sum()\n",
    "    wAvg = wAvg.iloc[0]"
   ]
  }
 ],
 "metadata": {
  "kernelspec": {
   "display_name": "Python 3 (ipykernel)",
   "language": "python",
   "name": "python3"
  },
  "language_info": {
   "codemirror_mode": {
    "name": "ipython",
    "version": 3
   },
   "file_extension": ".py",
   "mimetype": "text/x-python",
   "name": "python",
   "nbconvert_exporter": "python",
   "pygments_lexer": "ipython3",
   "version": "3.11.7"
  }
 },
 "nbformat": 4,
 "nbformat_minor": 5
}
